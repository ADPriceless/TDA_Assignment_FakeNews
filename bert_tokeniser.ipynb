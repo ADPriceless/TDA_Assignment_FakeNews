{
 "cells": [
  {
   "cell_type": "code",
   "execution_count": 1,
   "id": "e13260b2",
   "metadata": {},
   "outputs": [
    {
     "name": "stderr",
     "output_type": "stream",
     "text": [
      "c:\\Users\\Adam\\anaconda3\\envs\\machine_learning\\lib\\site-packages\\tqdm\\auto.py:21: TqdmWarning: IProgress not found. Please update jupyter and ipywidgets. See https://ipywidgets.readthedocs.io/en/stable/user_install.html\n",
      "  from .autonotebook import tqdm as notebook_tqdm\n"
     ]
    }
   ],
   "source": [
    "import collections\n",
    "import logging\n",
    "import os\n",
    "import pathlib\n",
    "import re\n",
    "import string\n",
    "import sys\n",
    "import tempfile\n",
    "import time\n",
    "\n",
    "import matplotlib.pyplot as plt\n",
    "import numpy as np\n",
    "import pandas as pd\n",
    "\n",
    "import tensorflow_datasets as tfds\n",
    "import tensorflow_text as text\n",
    "import tensorflow as tf\n",
    "from tensorflow_text.tools.wordpiece_vocab import bert_vocab_from_dataset as bert_vocab"
   ]
  },
  {
   "cell_type": "code",
   "execution_count": 2,
   "id": "864e4f2f",
   "metadata": {},
   "outputs": [],
   "source": [
    "tf.get_logger().setLevel('ERROR')\n",
    "pwd = pathlib.Path.cwd()"
   ]
  },
  {
   "cell_type": "code",
   "execution_count": 3,
   "id": "f551e32e",
   "metadata": {},
   "outputs": [
    {
     "name": "stdout",
     "output_type": "stream",
     "text": [
      "Found 1582 files belonging to 2 classes.\n",
      "Using 1266 files for training.\n",
      "Found 1582 files belonging to 2 classes.\n",
      "Using 316 files for validation.\n",
      "Found 396 files belonging to 2 classes.\n"
     ]
    }
   ],
   "source": [
    "AUTOTUNE = tf.data.AUTOTUNE\n",
    "batch_size = 32\n",
    "seed = 42\n",
    "\n",
    "raw_train_ds = tf.keras.utils.text_dataset_from_directory(\n",
    "    'data/train',\n",
    "    batch_size=batch_size,\n",
    "    validation_split=0.2,\n",
    "    subset='training',\n",
    "    seed=seed)\n",
    "\n",
    "class_names = raw_train_ds.class_names\n",
    "train_ds = raw_train_ds.cache().prefetch(buffer_size=AUTOTUNE)\n",
    "\n",
    "val_ds = tf.keras.utils.text_dataset_from_directory(\n",
    "    'data/train',\n",
    "    batch_size=batch_size,\n",
    "    validation_split=0.2,\n",
    "    subset='validation',\n",
    "    seed=seed)\n",
    "\n",
    "val_ds = val_ds.cache().prefetch(buffer_size=AUTOTUNE)\n",
    "\n",
    "test_ds = tf.keras.utils.text_dataset_from_directory(\n",
    "    'data/test',\n",
    "    batch_size=batch_size)\n",
    "\n",
    "test_ds = test_ds.cache().prefetch(buffer_size=AUTOTUNE)"
   ]
  },
  {
   "cell_type": "markdown",
   "id": "c185d911",
   "metadata": {},
   "source": [
    "Load CSV datasets into `tf.Dataset` format"
   ]
  },
  {
   "cell_type": "code",
   "execution_count": 4,
   "id": "75a0bc57",
   "metadata": {},
   "outputs": [],
   "source": [
    "# train_path = 'data/train.csv'\n",
    "\n",
    "# # Automatically determines the data types.\n",
    "# # Specify the label's column name if you have a target variable.\n",
    "# train_articles = tf.data.experimental.make_csv_dataset(\n",
    "#     train_path,\n",
    "#     batch_size=1,  # Adjust based on your needs\n",
    "#     label_name='is_fake',\n",
    "#     na_value=\"?\",\n",
    "#     num_epochs=1,\n",
    "#     ignore_errors=True,\n",
    "# )"
   ]
  },
  {
   "cell_type": "code",
   "execution_count": 5,
   "id": "850a0ee2",
   "metadata": {},
   "outputs": [
    {
     "name": "stdout",
     "output_type": "stream",
     "text": [
      "huma abedin swore under oath she had no emails she lied sioux indians wish dakota pipeline protesters would go home october   daniel greenfield the ecoloons protesting the dakota pipeline have the support of the media and the white house but many of the local sioux dont see them as defenders they just wish they would go home  ask around and youll hear stories of pipeline protesters whove traveled great distances theyve come from japan russia and germany australia israel and serbia and of course there are the allies not exclusively native american or indigenous whove flocked here from all corners of the us demonstrating is their proud daily work the obnoxious leftists of the world have united and they want no pipelines or showers no one makes this clearer than robert fool bear sr  district chairman of cannon ball the town he runs estimated population of  is just a few miles from the action its so close that given the faceoffs with law enforcement you have to pass through a police checkpoint to reach it its about time people heard from folks like him he says fool bear has had it with the protesters he says that more than two years ago when members of the standing rock sioux tribe could have attended hearings to make their concerns known they didnt care now suddenly the crowds are out of control and he fears its just a matter of time before someone gets seriously hurt go down to the camps he says and you wont see many standing rock sioux it irks me people are here from all over the world he says if they could come from other planets i think they would and the sioux are stuck helping leftist idiot protesters not long ago he found three teenage girls from ontario canada camped out inside his storage shed a white woman from spokane washington came to see him for help saying shed come here with nothing and her car had broken down when he was at the casino recently someone approached him about two young kids who were on their own because their parents had been arrested even though fool bear is against the protests that doesnt mean hes not preparing to help people out too he anticipates opening the community gymnasium for people without beds come winter and a growing pile of sleeping bags and blankets sits in his office those protesters from arizona georgia and california wont know what hit them when the cold rushes in he says instead of helping the sioux privileged leftists have become a burden for them to take care of\n",
      "0\n"
     ]
    }
   ],
   "source": [
    "for texts, labels in train_ds.take(1):\n",
    "    print(texts.numpy()[0].decode('utf-8'))\n",
    "    print(labels.numpy()[0])"
   ]
  },
  {
   "cell_type": "markdown",
   "id": "ee880695",
   "metadata": {},
   "source": [
    "Train tokeniser on our data"
   ]
  },
  {
   "cell_type": "code",
   "execution_count": 6,
   "id": "5a7203ec",
   "metadata": {},
   "outputs": [],
   "source": [
    "train_set = train_ds.map(lambda text, label: text)"
   ]
  },
  {
   "cell_type": "code",
   "execution_count": 7,
   "id": "cbc58b44",
   "metadata": {},
   "outputs": [],
   "source": [
    "bert_tokenizer_params=dict(lower_case=True)\n",
    "reserved_tokens=[\"[PAD]\", \"[UNK]\", \"[START]\", \"[END]\"]\n",
    "\n",
    "bert_vocab_args = dict(\n",
    "    # The target vocabulary size\n",
    "    vocab_size = 8000,\n",
    "    # Reserved tokens that must be included in the vocabulary\n",
    "    reserved_tokens=reserved_tokens,\n",
    "    # Arguments for `text.BertTokenizer`\n",
    "    bert_tokenizer_params=bert_tokenizer_params,\n",
    "    # Arguments for `wordpiece_vocab.wordpiece_tokenizer_learner_lib.learn`\n",
    "    learn_params={},\n",
    ")"
   ]
  },
  {
   "cell_type": "code",
   "execution_count": 8,
   "id": "db7b4fad",
   "metadata": {},
   "outputs": [],
   "source": [
    "# %%time\n",
    "train_vocab = bert_vocab.bert_vocab_from_dataset(\n",
    "    train_set.batch(3).prefetch(2),\n",
    "    **bert_vocab_args\n",
    ")"
   ]
  },
  {
   "cell_type": "markdown",
   "id": "baa9442d",
   "metadata": {},
   "source": [
    "Take a look at the vocab it has come up with"
   ]
  },
  {
   "cell_type": "code",
   "execution_count": 9,
   "id": "4db70492",
   "metadata": {},
   "outputs": [
    {
     "name": "stdout",
     "output_type": "stream",
     "text": [
      "['[PAD]', '[UNK]', '[START]', '[END]', '1', '2', '?', '_', 'a', 'b']\n",
      "['up', 'she', '##ly', 'like', 'just', 'them', 'also', 'do', 'new', 'than']\n",
      "['leading', 'protests', 'significant', '##el', 'air', 'effort', 'iraqi', 'judge', 'ones', 'organizations']\n",
      "['witnessing', 'ww', 'yelled', 'yellow', '##1', '##2', '##?', '##_', '##ø', '##⁄']\n"
     ]
    }
   ],
   "source": [
    "print(train_vocab[:10])\n",
    "print(train_vocab[100:110])\n",
    "print(train_vocab[1000:1010])\n",
    "print(train_vocab[-10:])"
   ]
  },
  {
   "cell_type": "markdown",
   "id": "8c459452",
   "metadata": {},
   "source": [
    "Save the vocab to a file"
   ]
  },
  {
   "cell_type": "code",
   "execution_count": 10,
   "id": "fb8b0e5a",
   "metadata": {},
   "outputs": [],
   "source": [
    "def write_vocab_file(filepath, vocab):\n",
    "    with open(filepath, 'w', encoding='utf-8') as f:\n",
    "          for token in vocab:\n",
    "            print(token, file=f)"
   ]
  },
  {
   "cell_type": "code",
   "execution_count": 22,
   "id": "fce5412d",
   "metadata": {},
   "outputs": [],
   "source": [
    "vocab_file = 'data/train_vocab.txt'\n",
    "write_vocab_file(vocab_file, train_vocab)"
   ]
  },
  {
   "cell_type": "code",
   "execution_count": 12,
   "id": "b6ad193a",
   "metadata": {},
   "outputs": [],
   "source": [
    "train_tokeniser = text.BertTokenizer('data/train_vocab.txt', **bert_tokenizer_params)"
   ]
  },
  {
   "cell_type": "markdown",
   "id": "6b7de81d",
   "metadata": {},
   "source": [
    "Take 3 examples to see how BERT tokenises them"
   ]
  },
  {
   "cell_type": "code",
   "execution_count": 13,
   "id": "90cf2d07",
   "metadata": {},
   "outputs": [
    {
     "name": "stdout",
     "output_type": "stream",
     "text": [
      "how hillary courts the black vote last majority white election minorities to give democrats white house through  paul bedard washington examiner november   this may be the last year that a republican will be elected president as the growth of liberalleaning minorities all but guarantees that democrats will hold the majority at least for the next four decades thats according to an unusual survey on the impact of minorities mostly latin american done for wallethub and provided to secrets  the study used two models based on population projections and matched to the overwhelming  percent minority turnout for president obama in  and the underwhelming  percent response for george w bush in  the bottom line in no presidential election from  do the republicans win snip snip\n",
      "obama talks about himself  times in speeches supposedly about hillary  things you need to know about trump and sex slave island by amanda prestigiacomo may   presumptive republican presidential nominee donald trump has thrown everything but the kitchen sink at hillary clinton when it comes to her husbands escapades the kitchen sink in this case is jeffery epsteins sex slave island and president bill clintons ties to it  why wouldnt trump use this ammo the answer is simple trump himself has ties to epstein the billionaire democratic donor and convicted pedophile known for having underage sex slaves on his private plane and what the media calls sex slave island here are seven connections between trump and epsteins sex slave endeavors that you need to know about  trump himself has said that epstein is a lot of fun to be with adding that he admired the sex offenders affinity for beautiful women on the younger side ive known jeff for fifteen years terrific guy trump once said about the convicted sex offender hes a lot of fun to be with it is even said that he likes beautiful women as much as i do and many of them are on the younger side no doubt about it  jeffrey enjoys his social life  trump was named in epsteins little black book epsteins  little black book  was stolen by a former employee in  the book nicknamed the holy grail by the employee revealed the name of donald trump and listed  phone numbers including emergency numbers car numbers and numbers to trumps security guard and houseman  trump has allegedly flown on epsteins private plane  a hot spot for underage sex orgies mark epstein jeffreys brother testified in  that trump flew on jeffreys private jet at least once reports vice news  meanwhile message pads see below from epsteins palm beach mansion that were seized by investigators and obtained by vice news indicate that trump called epstein twice in november of  epsteins private boeing  according to one of his alleged victims virginia roberts was nicknamed the lolita express roberts recalled unsavoury sex orgies on the private plane when she was just  years of age with epstein and his friends  both trump and epstein are named as sex abusers in a case with an underaged girl radar online reports that a woman in california identified as katie johnson filed a  million lawsuit against trump on april  accusing the real estate mogul of raping her when she was just  years old johnson claims trump raped her when she was yearsold and forced her to engage in sex acts by threatening to harm her and her family notes the independent uk  she claims the alleged abuse took place over a fourmonth period at underage sex parties held in new york city in  epstein was also named for alleged sexual misconduct and threats trumps team adamantly denies the accusation suspecting the claim is possibly a hoax since there is allegedly no evidence the plaintiff actually exists  epstein admitted to knowing trump under oath and curiously pled the fifth to trump attending sex parties with underage girls back in  epstein admitted to socializing with trump but when a lawyer representing an underaged victim of epsteins asked if he has ever socialized with donald trump in the presence of females under the age of  epstein curiously pled the fifth per vice news  q have you ever had a personal relationship with donald trump a what do you mean by personal relationship sir q have you socialized with him a yes sir q yes a yes sir q have you ever socialized with donald trump in the presence of females under the age of  a though id like to answer that question at least today im going to have to assert my fifth sixth and th amendment rights sir  at least one of epsteins underage sex victims was recruited from trumps maralago  which he frequented often virginia roberts an alleged victim of epsteins was recruited to perform a massage for epstein while working as a perhour locker room attendant at maralago roberts claims that epstein turned her into a sex slave and pimped her out to various friends including englands prince andrew over the years the passengers on epsteins jet she said included a whole bunch of other girls sometimes famous people sometimes some politicians  trump was subpoenaed in  for his connection to epsteins underage sex slave rings trump has denied ever being served in  trump was subpoenaed in a case against epstein concerning victim virginia roberts trumps attorney alan garten said that the subpoena never happened there is no debate over what happened said one of roberts attorneys i served mr trump with a subpoena for deposition in  he talked to me voluntarily and consequently we withdrew the subpoena in light of his voluntarily providing information i cant imagine there being any dispute of any of this additionally garten told vice news in january that mr trump has no relationship with epstein other than the democratic donor frequenting trumps maralago a lot of people hung out there including jeffrey epstein said garten that is the only connection according to the evidence however the connections with epstein appear to go a lot deeper than that tags\n",
      "wikileaks fends off cyber attack by melissa dykes this has already been the craziest election in the history of the country with the most overt corruption and fraud the american\n"
     ]
    }
   ],
   "source": [
    "examples = []\n",
    "for texts, _ in train_ds.take(1):\n",
    "    for i in range(3):\n",
    "        examples.append(texts[i])\n",
    "for ex in examples:\n",
    "    print(ex.numpy().decode())"
   ]
  },
  {
   "cell_type": "code",
   "execution_count": 14,
   "id": "d0353ef9",
   "metadata": {},
   "outputs": [
    {
     "name": "stdout",
     "output_type": "stream",
     "text": [
      "[[117], [88], [2297], [36], [266], [189], [205], [585], [152], [113], [2060], [37], [378], [309], [152], [203], [196], [777], [3095, 1857], [308], [5869, 167], [232], [49], [173], [53], [36], [205], [250], [41], [8], [239], [71], [53], [639], [130], [47], [36], [804], [38], [1120, 6584], [2060], [74], [65], [6840, 43], [41], [309], [71], [1266], [36], [585], [60], [341], [44], [36], [247], [598], [966], [276], [209], [37], [62], [5670], [2950], [45], [36], [1213], [38], [2060], [1215], [521, 6649], [160], [460], [44], [846, 6536, 3404], [39], [1322], [37], [6433], [36], [646], [255], [158], [5946], [632], [45], [600], [645, 919], [39], [4452, 75], [37], [36], [4691], [242], [1849], [2326], [44], [130], [143], [40], [39], [36], [221, 1088, 1729, 3515, 70], [242], [1056], [44], [756], [30], [1105], [40], [36], [2638], [655], [40], [87], [230], [113], [56], [107], [36], [343], [457], [1826], [1826]]\n",
      "[[143], [1894], [77], [641], [240], [40], [2542], [3149], [77], [88], [257], [55], [225], [37], [162], [77], [63], [39], [729], [5283], [4234], [50], [259, 7042], [23, 2882, 2982, 454, 476, 449, 206], [173], [23, 2882, 6657, 1602], [239], [230], [542], [136], [63], [61], [4128], [530], [65], [36], [7445], [4722], [60], [88], [72], [95], [46], [517], [37], [90], [4655], [12, 43, 3505, 2563, 2559], [36], [7445], [4722], [40], [49], [251], [42], [3451, 6081], [4631], [729], [5283], [4234], [39], [130], [299], [178], [1162], [37], [46], [184], [1203], [63], [249], [49], [6680], [36], [1017], [42], [1338], [63], [641], [61], [1162], [37], [2904], [36], [1953], [233], [3883], [39], [3545], [5244], [515], [44], [396], [5312], [729], [5283, 43], [45], [64], [384], [2019], [39], [86], [36], [132], [965], [729], [5283], [4234], [218], [51], [1748], [2577], [222], [63], [39], [4631], [729], [5283], [7357, 43], [41], [55], [225], [37], [162], [77], [63], [641], [61], [82], [41], [2904], [42], [8], [425], [38], [2244], [37], [53], [48], [1549], [41], [57], [1342, 5724, 1087], [36], [729], [207, 7085], [7232], [44], [2178], [166], [45], [36], [4307], [612], [811], [515], [3451], [44], [13, 3818, 3808], [145], [27, 118, 3184, 5349], [1041], [63], [316], [82], [77], [36], [3545], [729], [207, 6531], [483], [8], [425], [38], [2244], [37], [53], [48], [46], [42], [115], [82], [41], [57], [2520], [2178], [166], [47], [208], [47], [16], [107], [39], [144], [38], [105], [51], [45], [36], [4307], [612], [87], [1210], [77], [46], [6873], [5176], [64], [303], [194], [63], [52], [1967], [40], [4631], [390], [266], [512], [4631], [390], [266], [512], [52], [3954], [50], [8], [273], [4413], [40], [36], [512], [4683, 1981, 1944], [36], [2745], [14, 1086, 1224], [50], [36], [4413], [945], [36], [505], [38], [136], [63], [39], [4087], [1929], [933], [294], [2453], [933], [1106], [933], [39], [933], [37], [219], [346], [2456], [39], [203, 539], [63], [61], [2805], [3436, 164], [45], [4631], [384], [2019], [8], [2310], [3488], [44], [5312], [729], [69, 6088], [1025], [2904], [6873, 43], [1497], [7005], [40], [41], [63], [13, 4556], [45], [6873, 43], [384], [17, 744], [60], [341], [316], [446], [1543], [142], [1712], [970], [3365, 1491], [165], [1365], [56], [4631], [3365, 3515], [5801], [5928], [41], [78], [6011], [50], [2671], [39], [2754], [50], [1543], [142], [4075], [41], [63], [296], [2904], [2869], [40], [232], [38], [4631], [384], [5435], [209], [37], [81], [38], [64], [1436], [1293], [1942], [3047], [52], [4683, 1981, 1944], [36], [19, 1601, 3179], [2658], [3047], [5262, 75], [726, 1831, 7216, 2124], [729], [69, 6088], [45], [36], [384], [2019], [95], [101], [52], [104], [145], [38], [885], [48], [2904], [39], [64], [803], [228], [63], [39], [2904], [51], [1967], [47], [729], [1989, 371], [40], [8], [251], [48], [62], [5312, 96], [953], [25, 6497], [1076], [446], [41], [8], [364], [40], [886], [2746], [47], [18, 743, 708], [1848], [1619], [8], [252], [3029], [129], [63], [45], [2445], [4017], [36], [307], [2906], [20, 4796, 1987], [38], [25, 7046], [90], [95], [101], [52], [104], [145], [693], [1848], [627], [63], [3934], [90], [95], [101], [52], [145, 2041], [39], [952], [90], [37], [2344], [40], [729], [1638], [50], [2780], [37], [2351], [90], [39], [90], [353], [1238], [36], [1073], [983], [101], [627], [36], [1436], [1989], [412], [300], [112], [8], [598, 2485, 731], [1507], [60], [5312], [729], [1506], [733], [40], [108], [338], [335], [40], [2904], [52], [106], [1967], [44], [1436], [882], [7476], [39], [2781], [219], [784], [1342, 2558, 7140], [5477], [36], [5413], [2158, 70], [36], [751], [42], [2255], [8], [3343], [201], [99], [42], [2805], [87], [385], [36], [3607, 2982, 2790], [304], [2738], [2904], [2488], [37], [3125], [63], [221], [5234], [39], [5470, 102], [23, 948], [36], [3713], [37], [63], [7259], [729], [1506], [48], [5312], [832], [182], [40], [2904], [2488], [37], [303, 1433], [48], [63], [65], [95], [8], [1966], [4987], [62], [5312, 96], [2074], [38], [4631], [440], [76], [57], [61], [289], [303, 561], [48], [136], [63], [40], [36], [1534], [38], [6301], [221], [36], [885], [38], [2904], [5470, 102], [23, 948], [36], [3713], [1388], [1543], [142], [24], [54], [55], [289], [98], [8], [706], [880], [48], [136], [63], [8], [86], [107], [55], [615], [50], [706], [880], [3779], [24], [54], [55], [303, 561], [48], [139], [8], [800], [3779], [24], [800], [8], [800], [3779], [24], [54], [55], [289], [303, 561], [48], [136], [63], [40], [36], [1534], [38], [6301], [221], [36], [885], [38], [8], [444], [2008], [103], [37], [1017], [41], [426], [60], [341], [264], [287], [153], [37], [54], [37], [3091, 2719], [122], [3713], [1080, 731], [39], [392], [2286], [319], [3779], [60], [341], [81], [38], [4631], [5312], [729], [1293], [52], [6952, 7069, 4171, 75], [56], [219], [20, 828, 190, 3278, 206], [92], [57], [4426, 75], [497], [1942], [3047], [62], [1436], [2074], [38], [4631], [52], [6952, 7069, 4171, 75], [37], [3605], [8], [1287, 1033], [44], [2904], [149], [447], [47], [8], [1388, 4775], [4447, 118], [1043], [4594, 782], [60], [20, 828, 190, 3278, 206], [3047], [627], [41], [2904], [961], [90], [111], [8], [729], [5283], [39], [23, 1904, 1099], [90], [93], [37], [1059], [803], [294], [4629, 43], [2854], [2382], [112], [36], [145], [36], [1625, 337, 3170], [45], [4631], [17, 744], [101], [82], [1148], [8], [814], [3308], [38], [110], [832], [1045], [2454], [80], [1045], [116], [1460], [63], [52], [26, 3404, 3289, 4151, 75], [40], [44], [64], [1498], [37], [4631], [5312], [729], [5283], [4992, 43], [63], [61], [2188], [289], [131], [1571], [40], [63], [52], [26, 3404, 3289, 4151, 75], [40], [8], [251], [129], [2904], [3213], [2074], [1942], [3047], [219], [796], [5113], [14, 3065, 337], [82], [41], [36], [26, 3404, 3289, 4151], [212], [969], [99], [42], [87], [701], [112], [86], [969], [82], [81], [38], [3047], [5794], [16], [1571], [373], [63], [48], [8], [26, 3404, 3289, 4151], [44], [372, 3836], [40], [57], [1573], [37], [163], [29, 1601, 6178, 6509], [39], [7309], [66], [48, 96, 5745], [36], [26, 3404, 3289, 4151], [40], [843], [38], [64], [29, 1601, 6178, 6509], [2533], [278], [16], [407], [1846], [99], [131], [126], [6276], [38], [126], [38], [49], [4589], [14, 3065, 337], [234], [1543], [142], [40], [1371], [41], [373], [63], [61], [87], [880], [48], [2904], [110], [109], [36], [233], [3883], [4426, 70], [219], [20, 828, 190, 3278, 206], [8], [425], [38], [80], [15, 2986], [93], [99], [294], [6873], [2904], [82], [14, 3065, 337], [41], [42], [36], [125], [1498], [209], [37], [36], [385], [313], [36], [2577], [48], [2904], [1282], [37], [195], [8], [425], [3220], [109], [41], [1540]]\n",
      "[[459], [13, 6532], [207], [4205], [540], [50], [163, 4333, 1548, 135], [11, 150, 3075], [49], [61], [272], [84], [36], [10, 1086, 807, 4326], [113], [40], [36], [363], [38], [36], [197], [48], [36], [133], [112, 141], [1171], [39], [653], [36], [160]]\n"
     ]
    }
   ],
   "source": [
    "token_batch = train_tokeniser.tokenize(examples)\n",
    "token_batch.merge_dims(-2, -1)\n",
    "\n",
    "for ex in token_batch.to_list():\n",
    "    print(ex)"
   ]
  },
  {
   "cell_type": "code",
   "execution_count": 15,
   "id": "3746e9c5",
   "metadata": {},
   "outputs": [
    {
     "name": "stdout",
     "output_type": "stream",
     "text": [
      "how hillary courts the black vote last majority white election minorities to give democrats white house through paul bed ##ard washington examine ##r november this may be the last year that a republican will be elected president as the growth of liberal ##leaning minorities all but guarantee ##s that democrats will hold the majority at least for the next four decades thats according to an unusual survey on the impact of minorities mostly la ##tin american done for wall ##eth ##ub and provided to secrets the study used two models based on population project ##ions and match ##ed to the overwhelming percent minority turnout for president obama in and the under ##w ##he ##lm ##ing percent response for george w bush in the bottom line in no presidential election from do the republicans win snip snip\n",
      "obama talks about himself times in speeches supposedly about hillary things you need to know about trump and sex slave island by am ##anda p ##res ##ti ##g ##ia ##com ##o may p ##res ##ump ##tive republican presidential nominee donald trump has thrown everything but the kitchen sink at hillary clinton when it comes to her husbands e ##s ##ca ##pa ##des the kitchen sink in this case is jeff ##ery epsteins sex slave island and president bill clintons ties to it why wouldnt trump use this ammo the answer is simple trump himself has ties to epstein the billionaire democratic donor and convicted pedophile known for having underage sex slave ##s on his private plane and what the media calls sex slave island here are seven connections between trump and epsteins sex slave endeavor ##s that you need to know about trump himself has said that epstein is a lot of fun to be with adding that he ad ##mi ##red the sex off ##enders affinity for beautiful women on the younger side ive known jeff for f ##ift ##een years t ##er ##ri ##fic guy trump once said about the convicted sex off ##ender hes a lot of fun to be with it is even said that he likes beautiful women as much as i do and many of them are on the younger side no doubt about it jeffrey enjoys his social life trump was named in epsteins little black book epsteins little black book was stolen by a former employee in the book nick ##na ##med the holy g ##ra ##il by the employee revealed the name of donald trump and listed phone numbers including emergency numbers car numbers and numbers to trumps security guard and house ##man trump has allegedly flow ##n on epsteins private plane a hot spot for underage sex or ##gies mark epstein jeffrey ##s brother testified in that trump f ##lew on jeffrey ##s private j ##et at least once reports vice news meanwhile message pa ##ds see below from epsteins pa ##lm beach mansion that were seized by investigators and obtained by vice news indicate that trump called epstein twice in november of epsteins private boeing according to one of his alleged victims virginia roberts was nick ##na ##med the l ##ol ##ita express roberts recall ##ed un ##sa ##vo ##ury sex or ##gies on the private plane when she was just years of age with epstein and his friends both trump and epstein are named as sex abuse ##rs in a case with an underage ##d girl r ##adar online reports that a woman in california identified as k ##at ##ie johnson filed a million lawsuit against trump on april accusing the real estate m ##og ##ul of r ##aping her when she was just years old johnson claims trump raped her when she was years ##old and forced her to engage in sex acts by threatening to harm her and her family notes the independent uk she claims the alleged abuse took place over a four ##mon ##th period at underage sex parties held in new york city in epstein was also named for alleged sexual misconduct and threats trumps team ad ##ama ##ntly denies the accusation suspect ##ing the claim is possibly a hoax since there is allegedly no evidence the plain ##ti ##ff actually exists epstein admitted to knowing trump under oath and curious ##ly p ##led the fifth to trump attending sex parties with underage girls back in epstein admitted to social ##izing with trump but when a lawyer representing an underage ##d victim of epsteins asked if he has ever social ##ized with donald trump in the presence of females under the age of epstein curious ##ly p ##led the fifth per vice news q have you ever had a personal relationship with donald trump a what do you mean by personal relationship sir q have you social ##ized with him a yes sir q yes a yes sir q have you ever social ##ized with donald trump in the presence of females under the age of a though id like to answer that question at least today im going to have to ass ##ert my fifth six ##th and th amendment rights sir at least one of epsteins underage sex victims was re ##cr ##uit ##ed from trumps m ##ar ##al ##ag ##o which he frequent ##ed often virginia roberts an alleged victim of epsteins was re ##cr ##uit ##ed to perform a mass ##age for epstein while working as a per ##hour lock ##er room attend ##ant at m ##ar ##al ##ag ##o roberts claims that epstein turned her into a sex slave and p ##im ##ped her out to various friends including england ##s prince andrew over the years the pass ##en ##gers on epsteins j ##et she said included a whole bunch of other girls sometimes famous people sometimes some politicians trump was s ##ub ##po ##ena ##ed in for his connection to epsteins underage sex slave ring ##s trump has denied ever being served in trump was s ##ub ##po ##ena ##ed in a case against epstein concerning victim virginia roberts trumps attorney alan g ##art ##en said that the s ##ub ##po ##ena never happened there is no debate over what happened said one of roberts attorneys i served mr trump with a s ##ub ##po ##ena for de ##position in he talked to me v ##ol ##unt ##arily and consequently we with ##d ##rew the s ##ub ##po ##ena in light of his v ##ol ##unt ##arily providing information i cant imagine there being any dispute of any of this additionally g ##art ##en told vice news in january that mr trump has no relationship with epstein other than the democratic donor frequent ##ing trumps m ##ar ##al ##ag ##o a lot of people h ##ung out there including jeffrey epstein said g ##art ##en that is the only connection according to the evidence however the connections with epstein appear to go a lot deeper than that tags\n",
      "wikileaks f ##ends off cyber attack by me ##li ##ss ##a d ##y ##kes this has already been the c ##ra ##z ##iest election in the history of the country with the most over ##t corruption and fraud the american\n"
     ]
    }
   ],
   "source": [
    "# replace IDs with their text representations\n",
    "txt_tokens = tf.gather(train_vocab, token_batch)\n",
    "texts_tokenised = tf.strings.reduce_join(txt_tokens, separator=' ', axis=-1)\n",
    "for text_tokenised in texts_tokenised:\n",
    "    print(' '.join([term.decode('utf-8') for term in text_tokenised.numpy()]))"
   ]
  },
  {
   "cell_type": "code",
   "execution_count": 16,
   "id": "3e882d85",
   "metadata": {},
   "outputs": [
    {
     "name": "stdout",
     "output_type": "stream",
     "text": [
      "how hillary courts the black vote last majority white election minorities to give democrats white house through paul bedard washington examiner november this may be the last year that a republican will be elected president as the growth of liberalleaning minorities all but guarantees that democrats will hold the majority at least for the next four decades thats according to an unusual survey on the impact of minorities mostly latin american done for wallethub and provided to secrets the study used two models based on population projections and matched to the overwhelming percent minority turnout for president obama in and the underwhelming percent response for george w bush in the bottom line in no presidential election from do the republicans win snip snip\n",
      "obama talks about himself times in speeches supposedly about hillary things you need to know about trump and sex slave island by amanda prestigiacomo may presumptive republican presidential nominee donald trump has thrown everything but the kitchen sink at hillary clinton when it comes to her husbands escapades the kitchen sink in this case is jeffery epsteins sex slave island and president bill clintons ties to it why wouldnt trump use this ammo the answer is simple trump himself has ties to epstein the billionaire democratic donor and convicted pedophile known for having underage sex slaves on his private plane and what the media calls sex slave island here are seven connections between trump and epsteins sex slave endeavors that you need to know about trump himself has said that epstein is a lot of fun to be with adding that he admired the sex offenders affinity for beautiful women on the younger side ive known jeff for fifteen years terrific guy trump once said about the convicted sex offender hes a lot of fun to be with it is even said that he likes beautiful women as much as i do and many of them are on the younger side no doubt about it jeffrey enjoys his social life trump was named in epsteins little black book epsteins little black book was stolen by a former employee in the book nicknamed the holy grail by the employee revealed the name of donald trump and listed phone numbers including emergency numbers car numbers and numbers to trumps security guard and houseman trump has allegedly flown on epsteins private plane a hot spot for underage sex orgies mark epstein jeffreys brother testified in that trump flew on jeffreys private jet at least once reports vice news meanwhile message pads see below from epsteins palm beach mansion that were seized by investigators and obtained by vice news indicate that trump called epstein twice in november of epsteins private boeing according to one of his alleged victims virginia roberts was nicknamed the lolita express roberts recalled unsavoury sex orgies on the private plane when she was just years of age with epstein and his friends both trump and epstein are named as sex abusers in a case with an underaged girl radar online reports that a woman in california identified as katie johnson filed a million lawsuit against trump on april accusing the real estate mogul of raping her when she was just years old johnson claims trump raped her when she was yearsold and forced her to engage in sex acts by threatening to harm her and her family notes the independent uk she claims the alleged abuse took place over a fourmonth period at underage sex parties held in new york city in epstein was also named for alleged sexual misconduct and threats trumps team adamantly denies the accusation suspecting the claim is possibly a hoax since there is allegedly no evidence the plaintiff actually exists epstein admitted to knowing trump under oath and curiously pled the fifth to trump attending sex parties with underage girls back in epstein admitted to socializing with trump but when a lawyer representing an underaged victim of epsteins asked if he has ever socialized with donald trump in the presence of females under the age of epstein curiously pled the fifth per vice news q have you ever had a personal relationship with donald trump a what do you mean by personal relationship sir q have you socialized with him a yes sir q yes a yes sir q have you ever socialized with donald trump in the presence of females under the age of a though id like to answer that question at least today im going to have to assert my fifth sixth and th amendment rights sir at least one of epsteins underage sex victims was recruited from trumps maralago which he frequented often virginia roberts an alleged victim of epsteins was recruited to perform a massage for epstein while working as a perhour locker room attendant at maralago roberts claims that epstein turned her into a sex slave and pimped her out to various friends including englands prince andrew over the years the passengers on epsteins jet she said included a whole bunch of other girls sometimes famous people sometimes some politicians trump was subpoenaed in for his connection to epsteins underage sex slave rings trump has denied ever being served in trump was subpoenaed in a case against epstein concerning victim virginia roberts trumps attorney alan garten said that the subpoena never happened there is no debate over what happened said one of roberts attorneys i served mr trump with a subpoena for deposition in he talked to me voluntarily and consequently we withdrew the subpoena in light of his voluntarily providing information i cant imagine there being any dispute of any of this additionally garten told vice news in january that mr trump has no relationship with epstein other than the democratic donor frequenting trumps maralago a lot of people hung out there including jeffrey epstein said garten that is the only connection according to the evidence however the connections with epstein appear to go a lot deeper than that tags\n",
      "wikileaks fends off cyber attack by melissa dykes this has already been the craziest election in the history of the country with the most overt corruption and fraud the american\n"
     ]
    }
   ],
   "source": [
    "# reassemble words from extracted tokens\n",
    "words = train_tokeniser.detokenize(token_batch)\n",
    "reassembled_words = tf.strings.reduce_join(words, separator=' ', axis=-1)\n",
    "for words in reassembled_words:\n",
    "    print(' '.join([term.decode('utf-8') for term in words.numpy()]))"
   ]
  },
  {
   "cell_type": "markdown",
   "id": "58d06af8",
   "metadata": {},
   "source": [
    "Customisation and export"
   ]
  },
  {
   "cell_type": "code",
   "execution_count": 17,
   "id": "471fe997",
   "metadata": {},
   "outputs": [],
   "source": [
    "START = tf.argmax(tf.constant(reserved_tokens) == '[START]')\n",
    "END = tf.argmax(tf.constant(reserved_tokens) == '[END]')\n",
    "\n",
    "def add_start_end(ragged):\n",
    "    count = ragged.bounding_shape()[0] # num rows\n",
    "    starts = tf.fill([count, 1], START) # num rows x 1 tensor of STARTs\n",
    "    ends = tf.fill([count, 1], END)\n",
    "    return tf.concat([starts, ragged, ends], axis=1)"
   ]
  },
  {
   "cell_type": "code",
   "execution_count": 18,
   "id": "81f9981d",
   "metadata": {
    "scrolled": true
   },
   "outputs": [],
   "source": [
    "# words = en_tokeniser.detokenize(add_start_end(token_batch))\n",
    "# tf.strings.reduce_join(words, separator=' ', axis=-1)"
   ]
  },
  {
   "cell_type": "code",
   "execution_count": 19,
   "id": "07a0cb54",
   "metadata": {},
   "outputs": [],
   "source": [
    "def cleanup_text(reserved_tokens, token_txt):\n",
    "    # Drop the reserved tokens, except for \"[UNK]\".\n",
    "    bad_tokens = [re.escape(tok) for tok in reserved_tokens if tok != \"[UNK]\"]\n",
    "    bad_token_re = \"|\".join(bad_tokens)\n",
    "\n",
    "    bad_cells = tf.strings.regex_full_match(token_txt, bad_token_re)\n",
    "    result = tf.ragged.boolean_mask(token_txt, ~bad_cells)\n",
    "\n",
    "    # Join them into strings.\n",
    "    result = tf.strings.reduce_join(result, separator=' ', axis=-1)\n",
    "\n",
    "    return result"
   ]
  },
  {
   "cell_type": "code",
   "execution_count": 20,
   "id": "024479e4",
   "metadata": {},
   "outputs": [],
   "source": [
    "class CustomTokenizer(tf.Module):\n",
    "    def __init__(self, reserved_tokens, vocab_path):\n",
    "        self.tokenizer = text.BertTokenizer(vocab_path, lower_case=True)\n",
    "        self._reserved_tokens = reserved_tokens\n",
    "        self._vocab_path = tf.saved_model.Asset(vocab_path)\n",
    "\n",
    "        vocab = pathlib.Path(vocab_path) \\\n",
    "            .read_text(encoding='utf-8').splitlines()\n",
    "        self.vocab = tf.Variable(vocab)\n",
    "\n",
    "        ## Create the signatures for export:   \n",
    "\n",
    "        # Include a tokenize signature for a batch of strings. \n",
    "        self.tokenize.get_concrete_function(\n",
    "            tf.TensorSpec(shape=[None], dtype=tf.string))\n",
    "\n",
    "        # Include `detokenize` and `lookup` signatures for:\n",
    "        #   * `Tensors` with shapes [tokens] and [batch, tokens]\n",
    "        #   * `RaggedTensors` with shape [batch, tokens]\n",
    "        self.detokenize.get_concrete_function(\n",
    "            tf.TensorSpec(shape=[None, None], dtype=tf.int64))\n",
    "        self.detokenize.get_concrete_function(\n",
    "            tf.RaggedTensorSpec(shape=[None, None], dtype=tf.int64))\n",
    "\n",
    "        self.lookup.get_concrete_function(\n",
    "            tf.TensorSpec(shape=[None, None], dtype=tf.int64))\n",
    "        self.lookup.get_concrete_function(\n",
    "            tf.RaggedTensorSpec(shape=[None, None], dtype=tf.int64))\n",
    "\n",
    "        # These `get_*` methods take no arguments\n",
    "        self.get_vocab_size.get_concrete_function()\n",
    "        self.get_vocab_path.get_concrete_function()\n",
    "        self.get_reserved_tokens.get_concrete_function()\n",
    "\n",
    "    @tf.function\n",
    "    def tokenize(self, strings):\n",
    "        enc = self.tokenizer.tokenize(strings)\n",
    "        # Merge the `word` and `word-piece` axes.\n",
    "        enc = enc.merge_dims(-2,-1)\n",
    "        enc = add_start_end(enc)\n",
    "        return enc\n",
    "\n",
    "    @tf.function\n",
    "    def detokenize(self, tokenized):\n",
    "        words = self.tokenizer.detokenize(tokenized)\n",
    "        return cleanup_text(self._reserved_tokens, words)\n",
    "\n",
    "    @tf.function\n",
    "    def lookup(self, token_ids):\n",
    "        return tf.gather(self.vocab, token_ids)\n",
    "\n",
    "    @tf.function\n",
    "    def get_vocab_size(self):\n",
    "        return tf.shape(self.vocab)[0]\n",
    "\n",
    "    @tf.function\n",
    "    def get_vocab_path(self):\n",
    "        return self._vocab_path\n",
    "\n",
    "    @tf.function\n",
    "    def get_reserved_tokens(self):\n",
    "        return tf.constant(self._reserved_tokens)"
   ]
  },
  {
   "cell_type": "code",
   "execution_count": 23,
   "id": "c8da2da5",
   "metadata": {},
   "outputs": [],
   "source": [
    "tokenizer = CustomTokenizer(reserved_tokens, vocab_file)"
   ]
  },
  {
   "cell_type": "code",
   "execution_count": 24,
   "id": "6486555f",
   "metadata": {},
   "outputs": [],
   "source": [
    "model_name = 'fake_news_bert_tokenizer'\n",
    "tf.saved_model.save(tokenizer, model_name)"
   ]
  },
  {
   "cell_type": "code",
   "execution_count": 25,
   "id": "7dbb2527",
   "metadata": {},
   "outputs": [
    {
     "data": {
      "text/plain": [
       "7656"
      ]
     },
     "execution_count": 25,
     "metadata": {},
     "output_type": "execute_result"
    }
   ],
   "source": [
    "reloaded_tokenizer = tf.saved_model.load(model_name)\n",
    "reloaded_tokenizer.get_vocab_size().numpy()"
   ]
  },
  {
   "cell_type": "code",
   "execution_count": 26,
   "id": "c852a35d",
   "metadata": {},
   "outputs": [
    {
     "data": {
      "text/plain": [
       "array([[   2, 1184,  206, 2777,  427,  565, 3997,    1,    3]],\n",
       "      dtype=int64)"
      ]
     },
     "execution_count": 26,
     "metadata": {},
     "output_type": "execute_result"
    }
   ],
   "source": [
    "tokens = reloaded_tokenizer.tokenize(['Hello TensorFlow!'])\n",
    "tokens.numpy()"
   ]
  },
  {
   "cell_type": "code",
   "execution_count": 37,
   "id": "f4e0c0b8",
   "metadata": {},
   "outputs": [
    {
     "name": "stdout",
     "output_type": "stream",
     "text": [
      "[START] hell ##o tens ##or ##f ##low [UNK] [END]\n"
     ]
    }
   ],
   "source": [
    "text_tokens = reloaded_tokenizer.lookup(tokens)\n",
    "print(' '.join([term.decode('utf-8') for term in text_tokens.numpy()[0]]))\n",
    "    "
   ]
  },
  {
   "cell_type": "code",
   "execution_count": 28,
   "id": "6a9b057e",
   "metadata": {},
   "outputs": [
    {
     "name": "stdout",
     "output_type": "stream",
     "text": [
      "hello tensorflow [UNK]\n"
     ]
    }
   ],
   "source": [
    "round_trip = reloaded_tokenizer.detokenize(tokens)\n",
    "\n",
    "print(round_trip.numpy()[0].decode('utf-8'))"
   ]
  },
  {
   "cell_type": "code",
   "execution_count": null,
   "id": "9c529a38",
   "metadata": {},
   "outputs": [],
   "source": []
  }
 ],
 "metadata": {
  "kernelspec": {
   "display_name": "Python 3 (ipykernel)",
   "language": "python",
   "name": "python3"
  },
  "language_info": {
   "codemirror_mode": {
    "name": "ipython",
    "version": 3
   },
   "file_extension": ".py",
   "mimetype": "text/x-python",
   "name": "python",
   "nbconvert_exporter": "python",
   "pygments_lexer": "ipython3",
   "version": "3.10.12"
  }
 },
 "nbformat": 4,
 "nbformat_minor": 5
}
