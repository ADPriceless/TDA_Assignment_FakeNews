{
 "cells": [
  {
   "cell_type": "markdown",
   "metadata": {},
   "source": [
    "# Install Missing Dependencies"
   ]
  },
  {
   "cell_type": "code",
   "execution_count": 1,
   "metadata": {},
   "outputs": [
    {
     "name": "stdout",
     "output_type": "stream",
     "text": [
      "Requirement already satisfied: tensorflow-hub in /usr/local/lib/python3.9/dist-packages (0.16.1)\n",
      "Requirement already satisfied: protobuf>=3.19.6 in /usr/local/lib/python3.9/dist-packages (from tensorflow-hub) (3.19.6)\n",
      "Requirement already satisfied: tf-keras>=2.14.1 in /usr/local/lib/python3.9/dist-packages (from tensorflow-hub) (2.15.0)\n",
      "Requirement already satisfied: numpy>=1.12.0 in /usr/local/lib/python3.9/dist-packages (from tensorflow-hub) (1.23.4)\n",
      "\u001b[33mWARNING: Running pip as the 'root' user can result in broken permissions and conflicting behaviour with the system package manager. It is recommended to use a virtual environment instead: https://pip.pypa.io/warnings/venv\u001b[0m\u001b[33m\n",
      "\u001b[0m"
     ]
    }
   ],
   "source": [
    "!pip install tensorflow-hub"
   ]
  },
  {
   "cell_type": "code",
   "execution_count": 2,
   "metadata": {},
   "outputs": [
    {
     "name": "stdout",
     "output_type": "stream",
     "text": [
      "Requirement already satisfied: tensorflow-text==2.9.0 in /usr/local/lib/python3.9/dist-packages (2.9.0)\n",
      "Requirement already satisfied: tensorflow<2.10,>=2.9.0 in /usr/local/lib/python3.9/dist-packages (from tensorflow-text==2.9.0) (2.9.2)\n",
      "Requirement already satisfied: tensorflow-hub>=0.8.0 in /usr/local/lib/python3.9/dist-packages (from tensorflow-text==2.9.0) (0.16.1)\n",
      "Requirement already satisfied: flatbuffers<2,>=1.12 in /usr/local/lib/python3.9/dist-packages (from tensorflow<2.10,>=2.9.0->tensorflow-text==2.9.0) (1.12)\n",
      "Requirement already satisfied: tensorflow-estimator<2.10.0,>=2.9.0rc0 in /usr/local/lib/python3.9/dist-packages (from tensorflow<2.10,>=2.9.0->tensorflow-text==2.9.0) (2.9.0)\n",
      "Requirement already satisfied: wrapt>=1.11.0 in /usr/local/lib/python3.9/dist-packages (from tensorflow<2.10,>=2.9.0->tensorflow-text==2.9.0) (1.14.1)\n",
      "Requirement already satisfied: protobuf<3.20,>=3.9.2 in /usr/local/lib/python3.9/dist-packages (from tensorflow<2.10,>=2.9.0->tensorflow-text==2.9.0) (3.19.6)\n",
      "Requirement already satisfied: tensorboard<2.10,>=2.9 in /usr/local/lib/python3.9/dist-packages (from tensorflow<2.10,>=2.9.0->tensorflow-text==2.9.0) (2.9.1)\n",
      "Requirement already satisfied: opt-einsum>=2.3.2 in /usr/local/lib/python3.9/dist-packages (from tensorflow<2.10,>=2.9.0->tensorflow-text==2.9.0) (3.3.0)\n",
      "Requirement already satisfied: h5py>=2.9.0 in /usr/local/lib/python3.9/dist-packages (from tensorflow<2.10,>=2.9.0->tensorflow-text==2.9.0) (3.8.0)\n",
      "Requirement already satisfied: typing-extensions>=3.6.6 in /usr/local/lib/python3.9/dist-packages (from tensorflow<2.10,>=2.9.0->tensorflow-text==2.9.0) (4.4.0)\n",
      "Requirement already satisfied: numpy>=1.20 in /usr/local/lib/python3.9/dist-packages (from tensorflow<2.10,>=2.9.0->tensorflow-text==2.9.0) (1.23.4)\n",
      "Requirement already satisfied: tensorflow-io-gcs-filesystem>=0.23.1 in /usr/local/lib/python3.9/dist-packages (from tensorflow<2.10,>=2.9.0->tensorflow-text==2.9.0) (0.30.0)\n",
      "Requirement already satisfied: six>=1.12.0 in /usr/lib/python3/dist-packages (from tensorflow<2.10,>=2.9.0->tensorflow-text==2.9.0) (1.14.0)\n",
      "Requirement already satisfied: termcolor>=1.1.0 in /usr/local/lib/python3.9/dist-packages (from tensorflow<2.10,>=2.9.0->tensorflow-text==2.9.0) (2.2.0)\n",
      "Requirement already satisfied: packaging in /usr/local/lib/python3.9/dist-packages (from tensorflow<2.10,>=2.9.0->tensorflow-text==2.9.0) (23.0)\n",
      "Requirement already satisfied: libclang>=13.0.0 in /usr/local/lib/python3.9/dist-packages (from tensorflow<2.10,>=2.9.0->tensorflow-text==2.9.0) (15.0.6.1)\n",
      "Requirement already satisfied: absl-py>=1.0.0 in /usr/local/lib/python3.9/dist-packages (from tensorflow<2.10,>=2.9.0->tensorflow-text==2.9.0) (1.4.0)\n",
      "Requirement already satisfied: keras-preprocessing>=1.1.1 in /usr/local/lib/python3.9/dist-packages (from tensorflow<2.10,>=2.9.0->tensorflow-text==2.9.0) (1.1.2)\n",
      "Requirement already satisfied: keras<2.10.0,>=2.9.0rc0 in /usr/local/lib/python3.9/dist-packages (from tensorflow<2.10,>=2.9.0->tensorflow-text==2.9.0) (2.9.0)\n",
      "Requirement already satisfied: google-pasta>=0.1.1 in /usr/local/lib/python3.9/dist-packages (from tensorflow<2.10,>=2.9.0->tensorflow-text==2.9.0) (0.2.0)\n",
      "Requirement already satisfied: astunparse>=1.6.0 in /usr/local/lib/python3.9/dist-packages (from tensorflow<2.10,>=2.9.0->tensorflow-text==2.9.0) (1.6.3)\n",
      "Requirement already satisfied: gast<=0.4.0,>=0.2.1 in /usr/local/lib/python3.9/dist-packages (from tensorflow<2.10,>=2.9.0->tensorflow-text==2.9.0) (0.4.0)\n",
      "Requirement already satisfied: setuptools in /usr/local/lib/python3.9/dist-packages (from tensorflow<2.10,>=2.9.0->tensorflow-text==2.9.0) (66.1.1)\n",
      "Requirement already satisfied: grpcio<2.0,>=1.24.3 in /usr/local/lib/python3.9/dist-packages (from tensorflow<2.10,>=2.9.0->tensorflow-text==2.9.0) (1.51.1)\n",
      "Requirement already satisfied: tf-keras>=2.14.1 in /usr/local/lib/python3.9/dist-packages (from tensorflow-hub>=0.8.0->tensorflow-text==2.9.0) (2.15.0)\n",
      "Requirement already satisfied: wheel<1.0,>=0.23.0 in /usr/local/lib/python3.9/dist-packages (from astunparse>=1.6.0->tensorflow<2.10,>=2.9.0->tensorflow-text==2.9.0) (0.35.1)\n",
      "Requirement already satisfied: tensorboard-plugin-wit>=1.6.0 in /usr/local/lib/python3.9/dist-packages (from tensorboard<2.10,>=2.9->tensorflow<2.10,>=2.9.0->tensorflow-text==2.9.0) (1.8.1)\n",
      "Requirement already satisfied: markdown>=2.6.8 in /usr/local/lib/python3.9/dist-packages (from tensorboard<2.10,>=2.9->tensorflow<2.10,>=2.9.0->tensorflow-text==2.9.0) (3.4.1)\n",
      "Requirement already satisfied: google-auth-oauthlib<0.5,>=0.4.1 in /usr/local/lib/python3.9/dist-packages (from tensorboard<2.10,>=2.9->tensorflow<2.10,>=2.9.0->tensorflow-text==2.9.0) (0.4.6)\n",
      "Requirement already satisfied: tensorboard-data-server<0.7.0,>=0.6.0 in /usr/local/lib/python3.9/dist-packages (from tensorboard<2.10,>=2.9->tensorflow<2.10,>=2.9.0->tensorflow-text==2.9.0) (0.6.1)\n",
      "Requirement already satisfied: google-auth<3,>=1.6.3 in /usr/local/lib/python3.9/dist-packages (from tensorboard<2.10,>=2.9->tensorflow<2.10,>=2.9.0->tensorflow-text==2.9.0) (2.16.0)\n",
      "Requirement already satisfied: requests<3,>=2.21.0 in /usr/local/lib/python3.9/dist-packages (from tensorboard<2.10,>=2.9->tensorflow<2.10,>=2.9.0->tensorflow-text==2.9.0) (2.28.2)\n",
      "Requirement already satisfied: werkzeug>=1.0.1 in /usr/local/lib/python3.9/dist-packages (from tensorboard<2.10,>=2.9->tensorflow<2.10,>=2.9.0->tensorflow-text==2.9.0) (2.2.2)\n",
      "Requirement already satisfied: rsa<5,>=3.1.4 in /usr/local/lib/python3.9/dist-packages (from google-auth<3,>=1.6.3->tensorboard<2.10,>=2.9->tensorflow<2.10,>=2.9.0->tensorflow-text==2.9.0) (4.7.2)\n",
      "Requirement already satisfied: pyasn1-modules>=0.2.1 in /usr/local/lib/python3.9/dist-packages (from google-auth<3,>=1.6.3->tensorboard<2.10,>=2.9->tensorflow<2.10,>=2.9.0->tensorflow-text==2.9.0) (0.2.8)\n",
      "Requirement already satisfied: cachetools<6.0,>=2.0.0 in /usr/local/lib/python3.9/dist-packages (from google-auth<3,>=1.6.3->tensorboard<2.10,>=2.9->tensorflow<2.10,>=2.9.0->tensorflow-text==2.9.0) (5.3.0)\n",
      "Requirement already satisfied: requests-oauthlib>=0.7.0 in /usr/local/lib/python3.9/dist-packages (from google-auth-oauthlib<0.5,>=0.4.1->tensorboard<2.10,>=2.9->tensorflow<2.10,>=2.9.0->tensorflow-text==2.9.0) (1.3.1)\n",
      "Requirement already satisfied: importlib-metadata>=4.4 in /usr/local/lib/python3.9/dist-packages (from markdown>=2.6.8->tensorboard<2.10,>=2.9->tensorflow<2.10,>=2.9.0->tensorflow-text==2.9.0) (6.0.0)\n",
      "Requirement already satisfied: urllib3<1.27,>=1.21.1 in /usr/local/lib/python3.9/dist-packages (from requests<3,>=2.21.0->tensorboard<2.10,>=2.9->tensorflow<2.10,>=2.9.0->tensorflow-text==2.9.0) (1.26.14)\n",
      "Requirement already satisfied: idna<4,>=2.5 in /usr/lib/python3/dist-packages (from requests<3,>=2.21.0->tensorboard<2.10,>=2.9->tensorflow<2.10,>=2.9.0->tensorflow-text==2.9.0) (2.8)\n",
      "Requirement already satisfied: charset-normalizer<4,>=2 in /usr/local/lib/python3.9/dist-packages (from requests<3,>=2.21.0->tensorboard<2.10,>=2.9->tensorflow<2.10,>=2.9.0->tensorflow-text==2.9.0) (2.1.1)\n",
      "Requirement already satisfied: certifi>=2017.4.17 in /usr/lib/python3/dist-packages (from requests<3,>=2.21.0->tensorboard<2.10,>=2.9->tensorflow<2.10,>=2.9.0->tensorflow-text==2.9.0) (2019.11.28)\n",
      "Requirement already satisfied: MarkupSafe>=2.1.1 in /usr/local/lib/python3.9/dist-packages (from werkzeug>=1.0.1->tensorboard<2.10,>=2.9->tensorflow<2.10,>=2.9.0->tensorflow-text==2.9.0) (2.1.2)\n",
      "Requirement already satisfied: zipp>=0.5 in /usr/local/lib/python3.9/dist-packages (from importlib-metadata>=4.4->markdown>=2.6.8->tensorboard<2.10,>=2.9->tensorflow<2.10,>=2.9.0->tensorflow-text==2.9.0) (3.11.0)\n",
      "Requirement already satisfied: pyasn1<0.5.0,>=0.4.6 in /usr/local/lib/python3.9/dist-packages (from pyasn1-modules>=0.2.1->google-auth<3,>=1.6.3->tensorboard<2.10,>=2.9->tensorflow<2.10,>=2.9.0->tensorflow-text==2.9.0) (0.4.8)\n",
      "Requirement already satisfied: oauthlib>=3.0.0 in /usr/local/lib/python3.9/dist-packages (from requests-oauthlib>=0.7.0->google-auth-oauthlib<0.5,>=0.4.1->tensorboard<2.10,>=2.9->tensorflow<2.10,>=2.9.0->tensorflow-text==2.9.0) (3.2.2)\n",
      "\u001b[33mWARNING: Running pip as the 'root' user can result in broken permissions and conflicting behaviour with the system package manager. It is recommended to use a virtual environment instead: https://pip.pypa.io/warnings/venv\u001b[0m\u001b[33m\n",
      "\u001b[0m"
     ]
    }
   ],
   "source": [
    "# Must be tensorflow text 2.9.0 since the Paperspace\n",
    "# environment uses tensorflow 2.9.1\n",
    "!pip install tensorflow-text==2.9.0"
   ]
  },
  {
   "cell_type": "code",
   "execution_count": 3,
   "metadata": {},
   "outputs": [],
   "source": [
    "import matplotlib.pyplot as plt\n",
    "import tensorflow as tf\n",
    "import tensorflow_hub as hub\n",
    "import tensorflow_text as text\n",
    "\n",
    "from load_data import load_data\n",
    "import pretrained_bert_map"
   ]
  },
  {
   "cell_type": "code",
   "execution_count": 4,
   "metadata": {},
   "outputs": [
    {
     "data": {
      "text/plain": [
       "[LogicalDevice(name='/device:CPU:0', device_type='CPU'),\n",
       " LogicalDevice(name='/device:GPU:0', device_type='GPU')]"
      ]
     },
     "execution_count": 4,
     "metadata": {},
     "output_type": "execute_result"
    }
   ],
   "source": [
    "tf.config.list_logical_devices()"
   ]
  },
  {
   "cell_type": "code",
   "execution_count": 5,
   "metadata": {},
   "outputs": [],
   "source": [
    "tf.get_logger().setLevel('ERROR')"
   ]
  },
  {
   "cell_type": "code",
   "execution_count": 6,
   "metadata": {},
   "outputs": [
    {
     "name": "stdout",
     "output_type": "stream",
     "text": [
      "Found 1582 files belonging to 2 classes.\n",
      "Using 1266 files for training.\n",
      "Found 1582 files belonging to 2 classes.\n",
      "Using 316 files for validation.\n",
      "Found 396 files belonging to 2 classes.\n"
     ]
    }
   ],
   "source": [
    "train_ds, val_ds, test_ds, class_names = load_data('data/text_only')"
   ]
  },
  {
   "cell_type": "code",
   "execution_count": 7,
   "metadata": {},
   "outputs": [
    {
     "name": "stdout",
     "output_type": "stream",
     "text": [
      "Review: b'meet hillary clintons secretary of state send a  million check to iran october   daniel greenfield daniel greenfield a shillman journalism fellow at the freedom center is a new york writer focusing on radical islam september   has come and gone countless bodies lie scattered in fragments around where two of the countrys tallest skyscrapers once stood some have burned to ash others had their throats slashed by islamic terrorists still others fought and died on a plane to prevent another islamic terror attack from taking place but joe has an idea joe is a guy with lots of big ideas and this one is a real doozy the senator from delaware has come a long way since his days as a sixties shyster drumming up business in wilmington his formerly bald head is covered in hair so shiny is gleams under neon lights his teeth are capped and shine almost as brightly after a generation holding down a squeaky seat in the senate seniority makes him a man to be reckoned with and therefore a man to be listened to even if you wish he would shut up im groping here joe says for once he isnt referring to his notorious habits with women that will go on to make him the star of countless viral photographs massaging squeezing caressing instead hes talking about foreign policy the chair of the senate foreign relations committee has no clue joe is worried that the muslims will think badly of us after they murdered thousands of us and he has a plan to make them feel better seems to me this would be a good time to send no strings attached a check for  million to iran senator joe biden says the remark isnt quite as random as it seems the senator from delaware a state not known for its large muslim or iranian population has a friendly relationship with the iran lobby that relationship will only grow friendlier during the bush era as he attacks america and appeases its enemies iranianamericans who hate the jihadist government that has taken over their country and oppressed the persian people are outraged when he attends a fundraiser at a proiranian lobbyists home in california while treasonously attacking his own government for naming iran one of the members of the axis of evil joes usual amtrak obsession wouldnt get him in the door in california but treason hair plugs and capped teeth make him a big hit outside delaware and joe remains very fond of iran he informs israeli officials that israel will have to reconcile itself with the nuclearization of iran and thats all the way back in  before the deal that puts iran on the path to a shiite bomb was a nuclear twinkle in obamas eye and a radioactive itch in hillarys socks that was a big year for biden it was his first and biggest shot at the big chair in the white house joe had tried it in  and was stomped by dukakis of all people after being caught plagiarizing a speech by british politician neil kinnock  got him a useless position in the white house as a consolation prize this time around joe biden is expected to get the same consolation prize from hillary clinton that she got from barack obama the office of secretary of state of the united states of all the jobs that joe biden wants and is utterly unfit for amtrak train engineer secret agent and the guy in charge of counting all the money at the bar its hard to think of one that hes less fit for joe biden blamed darfur on the gingrich revolution he fell in love with the taliban the taliban per se is not our enemy joe insisted there is not a single statement that the president has ever made in any of our policy assertions that the taliban is our enemy he suggested that  of the taliban were probably okay and only  were incorrigible most of the taliban he seemed to think were like joe biden just in it for the money but joe biden has a soft spot for islamic terrorists whether theyre the shiite jihadists of iran or the sunni jihadists of the taliban joe loves all the terrorists of the world and the terrorists love him back it wasnt that long ago that we were being lectured to by the media on bushs ruination of relations with the rest of the world if biden were to become secretary of state he would become the third democratic presidential campaign loser to get the job as a consolation prize for his failures as a politician the last time a professional held down the job would have been the bush administration and yet perversely each loser secretary has been more incompetent than the last hillarys disastrous time as secretary of state could only be exceeded by john kerry who gave away everything to the russians and who was contradicted by the white house so many times it would have humiliated a lesser man or just any man the only loser who could follow two class acts like that was joe biden joe bidens amateur diplomacy has been one disaster after another even his visit to israel a friendly ally not known for fractious political visits by american politicians became an international incident with biden sulking in his room while hillary yelled at prime minister netanyahu for  minutes over the phone but somehow biden with his gift for appeasing iran and the taliban alienates allies just this year joe biden launched yet another attack on israel a cynic might almost think that tehran joe loves islamic terrorists and hates those who resist them and fight against them biden has claimed that terrorism is not an existential threat he accused president bush of being shortsighted for using the military to fight islamic terrorists he argued that the perception that we want to stay in iraq helps al qaeda some years later his administrations decision to pull out led to the rise of isis he called for closing gitmo while insisting that it had become the greatest propaganda tool that exists for recruiting of terrorists around the world senator joe biden was a voice for appeasement vice president joe biden was part of an administration that empowered and unleashed the malignant power of islamic terror secretary of state joe biden would be able to act out his worst fantasies he could even write that check to iran though the obamabiden era has seen cash transfers to iran that make joes  million check seem like chump change hillary clintons rise doesnt just mean that she will be making big decisions it will mean that joe biden will have gone from a wilmington shyster to running the foreign policy of a country he has betrayed'\n",
      "Label : 0 (is_fake_0)\n",
      "Review: b'claim watching scary movies could help boost your immune system and promote weight loss   vicki batts tags scary movies  immune system  weight loss naturalnews who doesnt love a good horror flick right there may actually be some health benefits to be found in watching scary movies too experts say that when you watch something frightening it engages your fight or flight response this in turn raises the amount of adrenaline pumping through your veins which can be pretty good for your bodypsychologist mark griffiths a professor of behavioral addiction at nottingham trent university says that there are a number of reasons why people typically seek out fearinducing films while the desire to experience something unusual isnt totally health related griffiths also commented on the potential healthy release some people may experience watching such films may also be cathartic providing an emotional release for pentup frustrations he told the uks daily mail but there could be more to it than just that at least according to some new research evidence indicates that the fear you experience while watching a scary movie could help to temporarily bolster your immune system scientists from coventry university took blood samples from a group of test subjects before during and after they either watched a scary movie or spent time in a quiet room their findings which were published in the journal stress  revealed that white blood cell counts were increased in those who saw the horror film  normally white blood cells respond in this way when there is a sign of infectionaccording to natalie riddell an immunologist at university college london this is all part of our evolutionary process which has been geared to promote the survival of the individual getting scared can engage the fight or flight response which in turn causes the release of adrenalinethe surge of adrenaline then launches the immune system into action  leading to an increased white blood cell countthats not all adrenaline can do either the survival hormone also elevates your heart rate and boosts your metabolic rate  the speed at which your body burns calories you may think that the number of calories you could burn by watching horror movies is negligible but studies have shown that you can actually burn a surprising amount of energy just by being scared thats right watching horror movies could help support your weight loss effortsin  researchers from the university of westminster conducted an experiment to see how many calories volunteers could burn off while watching  classic scary films on average each film scared the participants into torching about  calories  which is equivalent to walking for about  minutes the researchers found that the best horror movie for burning calories was none other than a classic steven king film thats right when people watched the shining directed by stanley kubrick they burned away a whopping  caloriesthe classic films jaws and the exorcist came in second and third place respectively for total calorie burning dr richard mackenzie senior lecturer and specialist in cell metabolism and physiology at the university commented that each of the  films sent hearts beating and pulses racing he explained as the pulse quickens and blood pumps around the body faster the body experiences a surge in adrenaline it is this release of fastacting adrenaline produced during short bursts of intense stress or in this case brought on by fear which is known to lower the appetite increase the basal metabolic rate and ultimately burn a higher level of caloriesoverall calorie burning increased by about onethird while the study participants watched the films of course this doesnt mean that you should watch a movie instead of exercising or eating healthfully  but the next time you sit down to watch a movie you might want to pick one from the horror genre sources'\n",
      "Label : 1 (is_fake_1)\n",
      "Review: b'the latest batch of hacked emails from clintons campaign chair john podesta have been releasedover  emails are contained in the latest leak amounting to  of the  promised to be released by wikileaks before november there are a number of communications found in the email pertaining to the clinton campaigns close relationship with mainstream media and her private email serverone email from september   shows chris lu the deputy secretary of the department of labor discussing a virtual data room where policy promises and other private communications will be uploadedgeneral room  there is a general room that well upload all of the policy promises as well as legal documents like expense reimbursements and contribution forms all of the principals on this list will have access to this room regarding policy promises from now on well email out the first drafts when theyre done but we wont email out revisions the latest version will always be stored in the general data room another email thread from may   discussing lanny davis former attorney for bill clinton we see clintons senior advisor philippe reines pose the following questionhillary rodham clinton is anxious to move forward  with the commitment that i will keep him focused and in line do you guys need to run any more traps on your end or can i reach out to enlist himhuman abedin writes back saying she just called me about this she wants lannyjohn podesta cryptically responds in the land of he blind the oneeyed man is king delivered by the daily sheeple we encourage you to share and republish our reports analyses breaking news and videos  click for details  contributed by ryan banister of the daily sheeple'\n",
      "Label : 0 (is_fake_0)\n"
     ]
    },
    {
     "name": "stderr",
     "output_type": "stream",
     "text": [
      "2024-03-07 01:50:05.018351: W tensorflow/core/kernels/data/cache_dataset_ops.cc:856] The calling iterator did not fully read the dataset being cached. In order to avoid unexpected truncation of the dataset, the partially cached contents of the dataset  will be discarded. This can happen if you have an input pipeline similar to `dataset.cache().take(k).repeat()`. You should use `dataset.take(k).cache().repeat()` instead.\n"
     ]
    }
   ],
   "source": [
    "for text_batch, label_batch in train_ds.take(1):\n",
    "  for i in range(3):\n",
    "    print(f'Review: {text_batch.numpy()[i]}')\n",
    "    label = label_batch.numpy()[i]\n",
    "    print(f'Label : {label} ({class_names[label]})')"
   ]
  },
  {
   "cell_type": "code",
   "execution_count": 8,
   "metadata": {},
   "outputs": [
    {
     "name": "stdout",
     "output_type": "stream",
     "text": [
      "BERT model selected           : https://tfhub.dev/tensorflow/small_bert/bert_en_uncased_L-4_H-512_A-8/1\n",
      "Preprocess model auto-selected: https://tfhub.dev/tensorflow/bert_en_uncased_preprocess/3\n"
     ]
    }
   ],
   "source": [
    "bert_model_name = 'small_bert/bert_en_uncased_L-4_H-512_A-8'\n",
    "# bert_model_name = 'bert_en_uncased_L-12_H-768_A-12' # big model\n",
    "\n",
    "\n",
    "tfhub_handle_encoder = pretrained_bert_map.map_name_to_handle[bert_model_name]\n",
    "tfhub_handle_preprocess = pretrained_bert_map.map_model_to_preprocess[bert_model_name]\n",
    "\n",
    "print(f'BERT model selected           : {tfhub_handle_encoder}')\n",
    "print(f'Preprocess model auto-selected: {tfhub_handle_preprocess}')\n"
   ]
  },
  {
   "cell_type": "markdown",
   "metadata": {},
   "source": [
    "## Preprocessing\n",
    "Tensorflow Hub does this all behind the scenes, apparently"
   ]
  },
  {
   "cell_type": "code",
   "execution_count": 9,
   "metadata": {},
   "outputs": [],
   "source": [
    "bert_preprocess_model = hub.KerasLayer(\n",
    "    tfhub_handle_preprocess\n",
    ")"
   ]
  },
  {
   "cell_type": "markdown",
   "metadata": {},
   "source": [
    "Test the preprocessing with  some input text"
   ]
  },
  {
   "cell_type": "code",
   "execution_count": 10,
   "metadata": {},
   "outputs": [
    {
     "name": "stdout",
     "output_type": "stream",
     "text": [
      "Keys       : ['input_type_ids', 'input_mask', 'input_word_ids']\n",
      "Shape      : (1, 128)\n",
      "Word Ids   : [ 101 2023 2003 2107 2019 6429 3185  999  102    0    0    0]\n",
      "Input Mask : [1 1 1 1 1 1 1 1 1 0 0 0]\n",
      "Type Ids   : [0 0 0 0 0 0 0 0 0 0 0 0]\n"
     ]
    }
   ],
   "source": [
    "text_test = ['this is such an amazing movie!']\n",
    "text_preprocessed = bert_preprocess_model(text_test)\n",
    "\n",
    "print(f'Keys       : {list(text_preprocessed.keys())}')\n",
    "print(f'Shape      : {text_preprocessed[\"input_word_ids\"].shape}')\n",
    "print(f'Word Ids   : {text_preprocessed[\"input_word_ids\"][0, :12]}')\n",
    "print(f'Input Mask : {text_preprocessed[\"input_mask\"][0, :12]}')\n",
    "print(f'Type Ids   : {text_preprocessed[\"input_type_ids\"][0, :12]}')\n"
   ]
  },
  {
   "cell_type": "markdown",
   "metadata": {},
   "source": [
    "## Using BERT Model\n",
    "Before using BERT, check it's outputs"
   ]
  },
  {
   "cell_type": "code",
   "execution_count": 11,
   "metadata": {},
   "outputs": [],
   "source": [
    "bert_model = hub.KerasLayer(tfhub_handle_encoder)"
   ]
  },
  {
   "cell_type": "code",
   "execution_count": 12,
   "metadata": {},
   "outputs": [
    {
     "name": "stdout",
     "output_type": "stream",
     "text": [
      "Loaded BERT: https://tfhub.dev/tensorflow/small_bert/bert_en_uncased_L-4_H-512_A-8/1\n",
      "Pooled Outputs Shape:(1, 512)\n",
      "Pooled Outputs Values:[ 0.76262873  0.99280983 -0.18611865  0.3667382   0.15233754  0.6550446\n",
      "  0.9681154  -0.948627    0.00216129 -0.9877731   0.06842719 -0.9763059 ]\n",
      "Sequence Outputs Shape:(1, 128, 512)\n",
      "Sequence Outputs Values:[[-0.2894631   0.3432125   0.33231503 ...  0.21300879  0.71020824\n",
      "  -0.05771083]\n",
      " [-0.28741956  0.31981033 -0.23018478 ...  0.58455044 -0.21329702\n",
      "   0.72692096]\n",
      " [-0.66156983  0.68876874 -0.87432986 ...  0.10877332 -0.26173213\n",
      "   0.4785546 ]\n",
      " ...\n",
      " [-0.22561109 -0.2892557  -0.07064363 ...  0.47566098  0.8327722\n",
      "   0.40025353]\n",
      " [-0.29824188 -0.27473086 -0.05450502 ...  0.48849785  1.0955354\n",
      "   0.18163365]\n",
      " [-0.4437817   0.00930776  0.07223777 ...  0.17290121  1.1833248\n",
      "   0.07898013]]\n"
     ]
    }
   ],
   "source": [
    "bert_results = bert_model(text_preprocessed)\n",
    "\n",
    "print(f'Loaded BERT: {tfhub_handle_encoder}')\n",
    "print(f'Pooled Outputs Shape:{bert_results[\"pooled_output\"].shape}')\n",
    "print(f'Pooled Outputs Values:{bert_results[\"pooled_output\"][0, :12]}')\n",
    "print(f'Sequence Outputs Shape:{bert_results[\"sequence_output\"].shape}')\n",
    "print(f'Sequence Outputs Values:{bert_results[\"sequence_output\"][0, :12]}')"
   ]
  },
  {
   "cell_type": "markdown",
   "metadata": {},
   "source": [
    "Build the classifier model"
   ]
  },
  {
   "cell_type": "code",
   "execution_count": 41,
   "metadata": {},
   "outputs": [],
   "source": [
    "def build_classifier_model(seq_length=128):\n",
    "    text_input = tf.keras.layers.Input(shape=(), dtype=tf.string, name='text')\n",
    "    \n",
    "    # Tokenize inputs\n",
    "    bert_preprocess = hub.load(tfhub_handle_preprocess)\n",
    "    tokenizer = hub.KerasLayer(bert_preprocess.tokenize, name='tokenizer')\n",
    "    input_tokenized = tokenizer(text_input)\n",
    "\n",
    "    # Apparently each preprocessing model provides a `bert_pack_inputs`\n",
    "    # method which packs the input strings into tensors of the expected shape.\n",
    "    packer = hub.KerasLayer(\n",
    "        bert_preprocess.bert_pack_inputs,\n",
    "        arguments=dict(seq_length=seq_length),\n",
    "        name='packer'\n",
    "    )\n",
    "    \n",
    "    encoder_inputs = packer([input_tokenized])\n",
    "    encoder = hub.KerasLayer(tfhub_handle_encoder, trainable=True, name='BERT_encoder')\n",
    "    encoder_outputs = encoder(encoder_inputs)\n",
    "    net = encoder_outputs['pooled_output']\n",
    "    net = tf.keras.layers.Dropout(0.1)(net)\n",
    "    # `activation=None` used rather than `activation=sigmoid` because it \n",
    "    # helps avoid floating point rounding errors when using binary \n",
    "    # cross-entropy as the loss function later.\n",
    "    net = tf.keras.layers.Dense(1, activation=None, name='classifier')(net)\n",
    "    return tf.keras.Model(text_input, net)\n"
   ]
  },
  {
   "cell_type": "markdown",
   "metadata": {},
   "source": [
    "Check that the model runs with the output of the preprocessing model"
   ]
  },
  {
   "cell_type": "code",
   "execution_count": 42,
   "metadata": {},
   "outputs": [
    {
     "name": "stdout",
     "output_type": "stream",
     "text": [
      "tf.Tensor([[0.5831466]], shape=(1, 1), dtype=float32)\n"
     ]
    }
   ],
   "source": [
    "classifier_model = build_classifier_model(seq_length=384)\n",
    "bert_raw_result = classifier_model(tf.constant(text_test))\n",
    "print(tf.sigmoid(bert_raw_result))"
   ]
  },
  {
   "cell_type": "code",
   "execution_count": 43,
   "metadata": {},
   "outputs": [
    {
     "name": "stdout",
     "output_type": "stream",
     "text": [
      "You must install pydot (`pip install pydot`) and install graphviz (see instructions at https://graphviz.gitlab.io/download/) for plot_model/model_to_dot to work.\n"
     ]
    }
   ],
   "source": [
    "tf.keras.utils.plot_model(classifier_model)"
   ]
  },
  {
   "cell_type": "code",
   "execution_count": 44,
   "metadata": {},
   "outputs": [
    {
     "name": "stdout",
     "output_type": "stream",
     "text": [
      "Model: \"model_2\"\n",
      "__________________________________________________________________________________________________\n",
      " Layer (type)                   Output Shape         Param #     Connected to                     \n",
      "==================================================================================================\n",
      " text (InputLayer)              [(None,)]            0           []                               \n",
      "                                                                                                  \n",
      " tokenizer (KerasLayer)         (None, None, None)   0           ['text[0][0]']                   \n",
      "                                                                                                  \n"
     ]
    },
    {
     "name": "stdout",
     "output_type": "stream",
     "text": [
      " packer (KerasLayer)            {'input_type_ids':   0           ['tokenizer[0][0]']              \n",
      "                                (None, 384),                                                      \n",
      "                                 'input_mask': (Non                                               \n",
      "                                e, 384),                                                          \n",
      "                                 'input_word_ids':                                                \n",
      "                                (None, 384)}                                                      \n",
      "                                                                                                  \n",
      " BERT_encoder (KerasLayer)      {'default': (None,   28763649    ['packer[0][0]',                 \n",
      "                                512),                             'packer[0][1]',                 \n",
      "                                 'sequence_output':               'packer[0][2]']                 \n",
      "                                 (None, 384, 512),                                                \n",
      "                                 'encoder_outputs':                                               \n",
      "                                 [(None, 384, 512),                                               \n",
      "                                 (None, 384, 512),                                                \n",
      "                                 (None, 384, 512),                                                \n",
      "                                 (None, 384, 512)],                                               \n",
      "                                 'pooled_output': (                                               \n",
      "                                None, 512)}                                                       \n",
      "                                                                                                  \n",
      " dropout_5 (Dropout)            (None, 512)          0           ['BERT_encoder[0][5]']           \n",
      "                                                                                                  \n",
      " classifier (Dense)             (None, 1)            513         ['dropout_5[0][0]']              \n",
      "                                                                                                  \n",
      "==================================================================================================\n",
      "Total params: 28,764,162\n",
      "Trainable params: 28,764,161\n",
      "Non-trainable params: 1\n",
      "__________________________________________________________________________________________________\n"
     ]
    }
   ],
   "source": [
    "classifier_model.summary()"
   ]
  },
  {
   "cell_type": "markdown",
   "metadata": {},
   "source": [
    "## Train Model"
   ]
  },
  {
   "cell_type": "code",
   "execution_count": 45,
   "metadata": {},
   "outputs": [],
   "source": [
    "loss = tf.keras.losses.BinaryCrossentropy(from_logits=True)\n",
    "metrics = tf.metrics.BinaryAccuracy()"
   ]
  },
  {
   "cell_type": "code",
   "execution_count": 46,
   "metadata": {},
   "outputs": [],
   "source": [
    "optimizer = tf.keras.optimizers.Adam()"
   ]
  },
  {
   "cell_type": "code",
   "execution_count": 47,
   "metadata": {},
   "outputs": [],
   "source": [
    "classifier_model.compile(optimizer=optimizer,\n",
    "                         loss=loss,\n",
    "                         metrics=metrics)"
   ]
  },
  {
   "cell_type": "code",
   "execution_count": 48,
   "metadata": {},
   "outputs": [
    {
     "name": "stdout",
     "output_type": "stream",
     "text": [
      "Training model with https://tfhub.dev/tensorflow/small_bert/bert_en_uncased_L-4_H-512_A-8/1\n",
      "Epoch 1/10\n",
      "40/40 [==============================] - 31s 622ms/step - loss: 0.8909 - binary_accuracy: 0.4905 - val_loss: 0.6402 - val_binary_accuracy: 0.6614\n",
      "Epoch 2/10\n",
      "40/40 [==============================] - 24s 604ms/step - loss: 0.7128 - binary_accuracy: 0.4708 - val_loss: 0.6541 - val_binary_accuracy: 0.6487\n",
      "Epoch 3/10\n",
      "40/40 [==============================] - 24s 606ms/step - loss: 0.6905 - binary_accuracy: 0.5111 - val_loss: 0.6416 - val_binary_accuracy: 0.6614\n",
      "Epoch 4/10\n",
      "40/40 [==============================] - 24s 608ms/step - loss: 0.6933 - binary_accuracy: 0.5024 - val_loss: 0.6401 - val_binary_accuracy: 0.6614\n",
      "Epoch 5/10\n",
      "40/40 [==============================] - 24s 613ms/step - loss: 0.6998 - binary_accuracy: 0.4803 - val_loss: 0.6392 - val_binary_accuracy: 0.6614\n",
      "Epoch 6/10\n",
      "40/40 [==============================] - 24s 599ms/step - loss: 0.7048 - binary_accuracy: 0.4866 - val_loss: 0.6487 - val_binary_accuracy: 0.3386\n",
      "Epoch 7/10\n",
      "40/40 [==============================] - 24s 605ms/step - loss: 0.7014 - binary_accuracy: 0.5000 - val_loss: 0.6401 - val_binary_accuracy: 0.6614\n",
      "Epoch 8/10\n",
      "40/40 [==============================] - 24s 608ms/step - loss: 0.7003 - binary_accuracy: 0.4961 - val_loss: 0.6420 - val_binary_accuracy: 0.6614\n",
      "Epoch 9/10\n",
      "40/40 [==============================] - 24s 602ms/step - loss: 0.7003 - binary_accuracy: 0.4874 - val_loss: 0.6402 - val_binary_accuracy: 0.6614\n",
      "Epoch 10/10\n",
      "40/40 [==============================] - 24s 613ms/step - loss: 0.6986 - binary_accuracy: 0.4866 - val_loss: 0.6401 - val_binary_accuracy: 0.6614\n"
     ]
    }
   ],
   "source": [
    "print(f'Training model with {tfhub_handle_encoder}')\n",
    "\n",
    "epochs = 10\n",
    "\n",
    "history = classifier_model.fit(x=train_ds,\n",
    "                               validation_data=val_ds,\n",
    "                               epochs=epochs)"
   ]
  },
  {
   "cell_type": "markdown",
   "metadata": {},
   "source": [
    "## Evaluate Model"
   ]
  },
  {
   "cell_type": "code",
   "execution_count": 49,
   "metadata": {},
   "outputs": [
    {
     "name": "stdout",
     "output_type": "stream",
     "text": [
      "13/13 [==============================] - 3s 237ms/step - loss: 0.6696 - binary_accuracy: 0.6162\n",
      "Loss: 0.6695849299430847\n",
      "Accuracy: 0.6161616444587708\n"
     ]
    }
   ],
   "source": [
    "loss, accuracy = classifier_model.evaluate(test_ds)\n",
    "\n",
    "print(f'Loss: {loss}')\n",
    "print(f'Accuracy: {accuracy}')"
   ]
  },
  {
   "cell_type": "code",
   "execution_count": 50,
   "metadata": {},
   "outputs": [],
   "source": [
    "def plot_curves(history):\n",
    "    print(history.history.keys())\n",
    "\n",
    "    acc = history.history['binary_accuracy']\n",
    "    val_acc = history.history['val_binary_accuracy']\n",
    "\n",
    "    loss = history.history['loss']\n",
    "    val_loss = history.history['val_loss']\n",
    "\n",
    "\n",
    "    plt.figure(figsize=(8, 16))\n",
    "    plt.subplot(2, 1, 1)\n",
    "    plt.plot(acc, label='Training Accuracy')\n",
    "    plt.plot(val_acc, label='Validation Accuracy')\n",
    "    plt.legend(loc='lower right')\n",
    "    plt.ylabel('Accuracy')\n",
    "    plt.ylim([min(plt.ylim()),1])\n",
    "    plt.title('Training and Validation Accuracy')\n",
    "\n",
    "    plt.subplot(2, 1, 2)\n",
    "    plt.plot(loss, label='Training and Validation Loss')\n",
    "    plt.plot(val_loss, label='Validation Loss')\n",
    "    plt.legend(loc='upper right')\n",
    "    plt.ylabel('Cross Entropy')\n",
    "    plt.title('Training and Validation Loss')\n",
    "\n",
    "    plt.xlabel('epoch')\n",
    "    plt.show()"
   ]
  },
  {
   "cell_type": "code",
   "execution_count": 51,
   "metadata": {},
   "outputs": [
    {
     "name": "stdout",
     "output_type": "stream",
     "text": [
      "dict_keys(['loss', 'binary_accuracy', 'val_loss', 'val_binary_accuracy'])\n"
     ]
    },
    {
     "data": {
      "image/png": "[encoded data removed]",
      "text/plain": [
       "<Figure size 800x1600 with 2 Axes>"
      ]
     },
     "metadata": {},
     "output_type": "display_data"
    }
   ],
   "source": [
    "plot_curves(history)"
   ]
  },
  {
   "cell_type": "code",
   "execution_count": 52,
   "metadata": {},
   "outputs": [
    {
     "ename": "NotImplementedError",
     "evalue": "Can only generate a valid config for `hub.KerasLayer(handle, ...)`that uses a string `handle`.\n\nGot `type(handle)`: <class 'tensorflow.python.saved_model.load.Loader._recreate_base_user_object.<locals>._UserObject'>",
     "output_type": "error",
     "traceback": [
      "\u001b[0;31m---------------------------------------------------------------------------\u001b[0m",
      "\u001b[0;31mNotImplementedError\u001b[0m                       Traceback (most recent call last)",
      "Cell \u001b[0;32mIn [52], line 2\u001b[0m\n\u001b[1;32m      1\u001b[0m \u001b[38;5;66;03m# save model\u001b[39;00m\n\u001b[0;32m----> 2\u001b[0m \u001b[43mtf\u001b[49m\u001b[38;5;241;43m.\u001b[39;49m\u001b[43mkeras\u001b[49m\u001b[38;5;241;43m.\u001b[39;49m\u001b[43mmodels\u001b[49m\u001b[38;5;241;43m.\u001b[39;49m\u001b[43msave_model\u001b[49m\u001b[43m(\u001b[49m\u001b[43mclassifier_model\u001b[49m\u001b[43m,\u001b[49m\u001b[43m \u001b[49m\u001b[38;5;124;43mf\u001b[39;49m\u001b[38;5;124;43m\"\u001b[39;49m\u001b[38;5;124;43mclf_\u001b[39;49m\u001b[38;5;132;43;01m{\u001b[39;49;00m\u001b[43mbert_model_name\u001b[49m\u001b[38;5;132;43;01m}\u001b[39;49;00m\u001b[38;5;124;43m_single_node_op.h5\u001b[39;49m\u001b[38;5;124;43m\"\u001b[39;49m\u001b[43m)\u001b[49m\n",
      "File \u001b[0;32m/usr/local/lib/python3.9/dist-packages/keras/utils/traceback_utils.py:67\u001b[0m, in \u001b[0;36mfilter_traceback.<locals>.error_handler\u001b[0;34m(*args, **kwargs)\u001b[0m\n\u001b[1;32m     65\u001b[0m \u001b[38;5;28;01mexcept\u001b[39;00m \u001b[38;5;167;01mException\u001b[39;00m \u001b[38;5;28;01mas\u001b[39;00m e:  \u001b[38;5;66;03m# pylint: disable=broad-except\u001b[39;00m\n\u001b[1;32m     66\u001b[0m   filtered_tb \u001b[38;5;241m=\u001b[39m _process_traceback_frames(e\u001b[38;5;241m.\u001b[39m__traceback__)\n\u001b[0;32m---> 67\u001b[0m   \u001b[38;5;28;01mraise\u001b[39;00m e\u001b[38;5;241m.\u001b[39mwith_traceback(filtered_tb) \u001b[38;5;28;01mfrom\u001b[39;00m \u001b[38;5;28mNone\u001b[39m\n\u001b[1;32m     68\u001b[0m \u001b[38;5;28;01mfinally\u001b[39;00m:\n\u001b[1;32m     69\u001b[0m   \u001b[38;5;28;01mdel\u001b[39;00m filtered_tb\n",
      "File \u001b[0;32m/usr/local/lib/python3.9/dist-packages/tensorflow_hub/keras_layer.py:342\u001b[0m, in \u001b[0;36mKerasLayer.get_config\u001b[0;34m(self)\u001b[0m\n\u001b[1;32m    337\u001b[0m config \u001b[38;5;241m=\u001b[39m \u001b[38;5;28msuper\u001b[39m()\u001b[38;5;241m.\u001b[39mget_config()\n\u001b[1;32m    338\u001b[0m \u001b[38;5;28;01mif\u001b[39;00m \u001b[38;5;129;01mnot\u001b[39;00m \u001b[38;5;28misinstance\u001b[39m(\u001b[38;5;28mself\u001b[39m\u001b[38;5;241m.\u001b[39m_handle, \u001b[38;5;28mstr\u001b[39m):\n\u001b[1;32m    339\u001b[0m   \u001b[38;5;66;03m# Need to raise this type in order for tf.saved_model.save() to fall back\u001b[39;00m\n\u001b[1;32m    340\u001b[0m   \u001b[38;5;66;03m# to not using config, instead of crashing.\u001b[39;00m\n\u001b[1;32m    341\u001b[0m   \u001b[38;5;66;03m# TODO(b/134528831): Reconsider the usability implications.\u001b[39;00m\n\u001b[0;32m--> 342\u001b[0m   \u001b[38;5;28;01mraise\u001b[39;00m \u001b[38;5;167;01mNotImplementedError\u001b[39;00m(\n\u001b[1;32m    343\u001b[0m       \u001b[38;5;124m\"\u001b[39m\u001b[38;5;124mCan only generate a valid config for `hub.KerasLayer(handle, ...)`\u001b[39m\u001b[38;5;124m\"\u001b[39m\n\u001b[1;32m    344\u001b[0m       \u001b[38;5;124m\"\u001b[39m\u001b[38;5;124mthat uses a string `handle`.\u001b[39m\u001b[38;5;130;01m\\n\u001b[39;00m\u001b[38;5;130;01m\\n\u001b[39;00m\u001b[38;5;124m\"\u001b[39m\n\u001b[1;32m    345\u001b[0m       \u001b[38;5;124m\"\u001b[39m\u001b[38;5;124mGot `type(handle)`: \u001b[39m\u001b[38;5;132;01m{}\u001b[39;00m\u001b[38;5;124m\"\u001b[39m\u001b[38;5;241m.\u001b[39mformat(\u001b[38;5;28mtype\u001b[39m(\u001b[38;5;28mself\u001b[39m\u001b[38;5;241m.\u001b[39m_handle)))\n\u001b[1;32m    346\u001b[0m config[\u001b[38;5;124m\"\u001b[39m\u001b[38;5;124mhandle\u001b[39m\u001b[38;5;124m\"\u001b[39m] \u001b[38;5;241m=\u001b[39m \u001b[38;5;28mself\u001b[39m\u001b[38;5;241m.\u001b[39m_handle\n\u001b[1;32m    348\u001b[0m \u001b[38;5;28;01mif\u001b[39;00m \u001b[38;5;28mhasattr\u001b[39m(\u001b[38;5;28mself\u001b[39m, \u001b[38;5;124m\"\u001b[39m\u001b[38;5;124m_output_shape\u001b[39m\u001b[38;5;124m\"\u001b[39m):\n",
      "\u001b[0;31mNotImplementedError\u001b[0m: Can only generate a valid config for `hub.KerasLayer(handle, ...)`that uses a string `handle`.\n\nGot `type(handle)`: <class 'tensorflow.python.saved_model.load.Loader._recreate_base_user_object.<locals>._UserObject'>"
     ]
    }
   ],
   "source": [
    "# save model\n",
    "tf.keras.models.save_model(classifier_model, f\"clf_{bert_model_name}_single_node_op.h5\")\n"
   ]
  },
  {
   "cell_type": "code",
   "execution_count": null,
   "metadata": {},
   "outputs": [
    {
     "ename": "",
     "evalue": "",
     "output_type": "error",
     "traceback": [
      "\u001b[1;31mFailed to connect to the remote Jupyter Server 'https://nt2bc688nq.clg07azjl.paperspacegradient.com/'. Verify the server is running and reachable. (Failed to connect to the remote Jupyter Server 'https://nt2bc688nq.clg07azjl.paperspacegradient.com/'. Verify the server is running and reachable. (Invalid response: 503 Service Unavailable).)."
     ]
    }
   ],
   "source": []
  }
 ],
 "metadata": {
  "kernelspec": {
   "display_name": "Python 3 (ipykernel)",
   "language": "python",
   "name": "python3"
  },
  "language_info": {
   "codemirror_mode": {
    "name": "ipython",
    "version": 3
   },
   "file_extension": ".py",
   "mimetype": "text/x-python",
   "name": "python",
   "nbconvert_exporter": "python",
   "pygments_lexer": "ipython3",
   "version": "3.9.16"
  }
 },
 "nbformat": 4,
 "nbformat_minor": 2
}
